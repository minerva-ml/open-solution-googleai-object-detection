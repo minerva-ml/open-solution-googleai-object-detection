{
 "cells": [
  {
   "cell_type": "code",
   "execution_count": null,
   "metadata": {},
   "outputs": [],
   "source": [
    "from collections import defaultdict\n",
    "from typing import Sequence\n",
    "import pandas as pd\n",
    "\n",
    "SUBMISSION_PATHS = ['MODEL1/PATH/submission.csv',\n",
    "                    'MODEL2/PATH/submission.csv',\n",
    "                    'MODEL3/PATH/submission.csv',\n",
    "                    'MODEL4/PATH/submission.csv',\n",
    "                   ]\n",
    "\n",
    "MERGED_SUBMISSION_PATH = 'MERGED/PATH/submission.csv',"
   ]
  },
  {
   "cell_type": "code",
   "execution_count": null,
   "metadata": {},
   "outputs": [],
   "source": [
    "def merge_submissions(submissions: Sequence[pd.DataFrame]) -> pd.DataFrame:\n",
    "    sub_dict = defaultdict(lambda: [])\n",
    "    merged_sub = defaultdict(lambda: [])\n",
    "    for sub in submissions:\n",
    "        for _, row in sub.iterrows():\n",
    "            pred_string = str(row['PredictionString'])\n",
    "            sub_dict[row['ImageId']]\n",
    "            if 'nan' not in pred_string:\n",
    "                sub_dict[row['ImageId']].append(pred_string)\n",
    "    for key, value in sub_dict.items():\n",
    "        merged_sub['ImageId'].append(key)\n",
    "        merged_sub['PredictionString'].append(' '.join(value))\n",
    "    final_sub = pd.DataFrame.from_dict(merged_sub)\n",
    "    return final_sub"
   ]
  },
  {
   "cell_type": "code",
   "execution_count": null,
   "metadata": {},
   "outputs": [],
   "source": [
    "subs = []\n",
    "for submission_path in SUBMISSION_PATHS:\n",
    "    batch_submission = pd.read_csv(SUBMISSION_PATHS)\n",
    "    subs.append(batch_submission)"
   ]
  },
  {
   "cell_type": "code",
   "execution_count": null,
   "metadata": {},
   "outputs": [],
   "source": [
    "submission = merge_submissions(subs)\n",
    "submission.head()"
   ]
  },
  {
   "cell_type": "code",
   "execution_count": null,
   "metadata": {},
   "outputs": [],
   "source": [
    "submission.to_csv(MERGED_SUBMISSION_PATH, index=False)"
   ]
  }
 ],
 "metadata": {
  "kernelspec": {
   "display_name": "cpu py3",
   "language": "python",
   "name": "cpu_py3"
  },
  "language_info": {
   "codemirror_mode": {
    "name": "ipython",
    "version": 3
   },
   "file_extension": ".py",
   "mimetype": "text/x-python",
   "name": "python",
   "nbconvert_exporter": "python",
   "pygments_lexer": "ipython3",
   "version": "3.5.2"
  }
 },
 "nbformat": 4,
 "nbformat_minor": 2
}
